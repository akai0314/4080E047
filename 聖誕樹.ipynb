{
  "nbformat": 4,
  "nbformat_minor": 0,
  "metadata": {
    "colab": {
      "name": "聖誕樹",
      "provenance": [],
      "include_colab_link": true
    },
    "kernelspec": {
      "name": "python3",
      "display_name": "Python 3"
    }
  },
  "cells": [
    {
      "cell_type": "markdown",
      "metadata": {
        "id": "view-in-github",
        "colab_type": "text"
      },
      "source": [
        "<a href=\"https://colab.research.google.com/github/akai0314/4080E047/blob/master/%E8%81%96%E8%AA%95%E6%A8%B9.ipynb\" target=\"_parent\"><img src=\"https://colab.research.google.com/assets/colab-badge.svg\" alt=\"Open In Colab\"/></a>"
      ]
    },
    {
      "cell_type": "code",
      "metadata": {
        "id": "oS3OSzw6JLzG",
        "colab_type": "code",
        "colab": {}
      },
      "source": [
        "\n",
        "Christmas tree   \n",
        "\n",
        "    *\n",
        "   ***\n",
        "  *****\n",
        "    *\n",
        "    "
      ],
      "execution_count": 0,
      "outputs": []
    }
  ]
}